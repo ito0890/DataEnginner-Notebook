{
  "cells": [
    {
      "cell_type": "markdown",
      "metadata": {
        "id": "view-in-github",
        "colab_type": "text"
      },
      "source": [
        "<a href=\"https://colab.research.google.com/github/ito0890/DataEnginner-Notebook/blob/main/13_01_Analyse_a_dataset_using_SparkSQL.ipynb\" target=\"_parent\"><img src=\"https://colab.research.google.com/assets/colab-badge.svg\" alt=\"Open In Colab\"/></a>"
      ]
    },
    {
      "cell_type": "markdown",
      "metadata": {
        "id": "df6af55a-3ba7-40a8-bcf8-a898f04466d2"
      },
      "source": [
        "<p style=\"text-align:center\">\n",
        "    <a href=\"https://skills.network/?utm_medium=Exinfluencer&utm_source=Exinfluencer&utm_content=000026UJ&utm_term=10006555&utm_id=NA-SkillsNetwork-Channel-SkillsNetworkCoursesIBMSkillsNetworkBD0231ENCoursera2789-2023-01-01\">\n",
        "    <img src=\"https://cf-courses-data.s3.us.cloud-object-storage.appdomain.cloud/assets/logos/SN_web_lightmode.png\" width=\"200\" alt=\"Skills Network Logo\">\n",
        "    </a>\n",
        "</p>\n"
      ]
    },
    {
      "cell_type": "markdown",
      "metadata": {
        "id": "5fa9e2ac-bc4f-4a21-b228-60b258eeb751"
      },
      "source": [
        "## Analyze a dataset using SparkSQL\n"
      ]
    },
    {
      "cell_type": "markdown",
      "metadata": {
        "id": "3216f053-e738-4a75-8161-579f514734d9"
      },
      "source": [
        "Estimated time needed: **30** minutes\n"
      ]
    },
    {
      "cell_type": "markdown",
      "metadata": {
        "id": "aa45138f-fde9-425d-a248-6e339699274a"
      },
      "source": [
        "<p style='color: red'>The purpose of this lab is to show you how to use SparkML to persist a model and to load the persisted model.\n"
      ]
    },
    {
      "cell_type": "markdown",
      "metadata": {
        "id": "5c396e59-9000-44fb-88a3-8cd554bf12e2"
      },
      "source": [
        "## __Table of Contents__\n",
        "\n",
        "<ol>\n",
        "  <li>\n",
        "    <a href=\"#Objectives\">Objectives\n",
        "    </a>\n",
        "  </li>\n",
        "  <li>\n",
        "    <a href=\"#Datasets\">Datasets\n",
        "    </a>\n",
        "  </li>\n",
        "  <li>\n",
        "    <a href=\"#Setup\">Setup\n",
        "    </a>\n",
        "    <ol>\n",
        "      <li>\n",
        "        <a href=\"#Installing-Required-Libraries\">Installing Required Libraries\n",
        "        </a>\n",
        "      </li>\n",
        "      <li>\n",
        "        <a href=\"#Importing-Required-Libraries\">Importing Required Libraries\n",
        "        </a>\n",
        "      </li>\n",
        "    </ol>\n",
        "  </li>\n",
        "  <li>\n",
        "    <a href=\"#Examples\">Examples\n",
        "    </a>\n",
        "    <ol>\n",
        "    <li>\n",
        "      <a href=\"#Task-1---Create-a-spark-session\">Task 1 - Create a spark session\n",
        "      </a>\n",
        "    </li>\n",
        "    <li>\n",
        "      <a href=\"#Task-2---Load-csv-file-into-a-dataframe\">Task 2 - Load csv file into a dataframe\n",
        "      </a>\n",
        "    </li>\n",
        "    <li>\n",
        "      <a href=\"#Task-3---Create-a-temporary-view\">Task 3 - Create a temporary view\n",
        "      </a>\n",
        "    </li>\n",
        "    <li>\n",
        "      <a href=\"#Task-4---Run-a-SQL-query-on-the-dataframe\">Task 4 - Run a SQL query on the dataframe\n",
        "      </a>\n",
        "    </li>\n",
        "    <li>\n",
        "      <a href=\"#Task-5---Analyze-the-dataset\">Task 5 - Analyze the dataset\n",
        "      </a>\n",
        "    </li>\n",
        "    </ol>\n",
        "  </li>\n",
        "  <li>\n",
        "    <a href=\"#Exercises\">Exercises\n",
        "    </a>\n",
        "  </li>\n",
        "  <ol>\n",
        "    <li>\n",
        "      <a href=\"#Exercise-1---Create-a-spark-session\">Exercise 1 - Create a spark session\n",
        "      </a>\n",
        "    </li>\n",
        "    <li>\n",
        "      <a href=\"#Exercise-2---Load-csv-file-into-a-dataframe\">Exercise 2 - Load csv file into a dataframe\n",
        "      </a>\n",
        "    </li>\n",
        "    <li>\n",
        "      <a href=\"#Exercise-3---Create-a-temporary-view\">Exercise 3 - Create a temporary view\n",
        "      </a>\n",
        "    </li>\n",
        "    <li>\n",
        "      <a href=\"#Exercise-4---Run-a-SQL-query-on-the-dataframe\">Exercise 4 - Run a SQL query on the dataframe\n",
        "      </a>\n",
        "    </li>\n",
        "    <li>\n",
        "      <a href=\"#Exercise-5---Analyze-the-dataset\">Exercise 5 - Analyze the dataset\n",
        "      </a>\n",
        "    </li>\n",
        "  </ol>\n",
        "</ol>\n"
      ]
    },
    {
      "cell_type": "markdown",
      "metadata": {
        "id": "d2109c69-4daf-439e-8568-74fbb06fb66f"
      },
      "source": [
        "## Objectives\n",
        "\n",
        "After completing this lab you will be able to:\n",
        "\n",
        " - Load a csv dataset into a dataframe\n",
        " - Create a temporary view based on a dataframe\n",
        " - Run SQL queries on the view\n",
        " - Analyze a dataset using SparkSQL\n"
      ]
    },
    {
      "cell_type": "markdown",
      "metadata": {
        "id": "c350cc09-c47b-4c7f-8802-c3a39e78bd6c"
      },
      "source": [
        "## Datasets\n",
        "\n",
        "In this lab you will be using dataset(s):\n",
        "\n",
        " - Modified version of car mileage dataset.  Original dataset available at https://archive.ics.uci.edu/ml/datasets/auto+mpg\n",
        " - Modified version of diamonds dataset.  Original dataset available at https://www.openml.org/search?type=data&sort=runs&id=42225&status=active\n",
        "\n"
      ]
    },
    {
      "cell_type": "markdown",
      "metadata": {
        "id": "db94c960-cd0b-4488-82b7-c8453e2b8b44"
      },
      "source": [
        "----\n"
      ]
    },
    {
      "cell_type": "markdown",
      "metadata": {
        "id": "d8f37ad0-62f1-4833-9bb0-873f05c49c1e"
      },
      "source": [
        "## Setup\n"
      ]
    },
    {
      "cell_type": "markdown",
      "metadata": {
        "id": "b1d6e8c0-b5ef-4f0c-9314-305da02d817c"
      },
      "source": [
        "For this lab, we will be using the following libraries:\n",
        "\n",
        "*   [`PySpark`](https://spark.apache.org/docs/latest/api/python/index.html?utm_medium=Exinfluencer&utm_source=Exinfluencer&utm_content=000026UJ&utm_term=10006555&utm_id=NA-SkillsNetwork-Channel-SkillsNetworkCoursesIBMSkillsNetworkBD0231ENCoursera2789-2023-01-01) for connecting to the Spark Cluster\n"
      ]
    },
    {
      "cell_type": "markdown",
      "metadata": {
        "id": "ab6f5200-9915-4fb7-beae-c752690ec5a1"
      },
      "source": [
        "### Installing Required Libraries\n",
        "\n",
        "Spark Cluster is pre-installed in the Skills Network Labs environment. However, you need libraries like pyspark and findspark to connect to this cluster.\n",
        "\n",
        "If you wish to download this jupyter notebook and run on your local computer, follow the instructions mentioned <a href=\"https://cf-courses-data.s3.us.cloud-object-storage.appdomain.cloud/IBMSkillsNetwork-BD0231EN-Coursera/labs/Connecting_to_spark_cluster_using_Skills_Network_labs.ipynb\">here.</a>\n",
        "\n"
      ]
    },
    {
      "cell_type": "markdown",
      "metadata": {
        "id": "542621cd-cf62-4733-818a-092f5c7dbeae"
      },
      "source": [
        "The following required libraries are __not__ pre-installed in the Skills Network Labs environment. __You will need to run the following cell__ to install them:\n"
      ]
    },
    {
      "cell_type": "code",
      "metadata": {
        "colab": {
          "base_uri": "https://localhost:8080/"
        },
        "id": "5f27bd62-9d1e-4692-895e-1bee114d5632",
        "outputId": "eff58cf9-cdbd-4ca1-dfb8-7d5c6c0f1fcf"
      },
      "outputs": [
        {
          "output_type": "stream",
          "name": "stdout",
          "text": [
            "\u001b[2K     \u001b[90m━━━━━━━━━━━━━━━━━━━━━━━━━━━━━━━━━━━━━━━━\u001b[0m \u001b[32m212.4/212.4 MB\u001b[0m \u001b[31m4.3 MB/s\u001b[0m eta \u001b[36m0:00:00\u001b[0m\n",
            "\u001b[?25h  Preparing metadata (setup.py) ... \u001b[?25l\u001b[?25hdone\n",
            "\u001b[2K   \u001b[90m━━━━━━━━━━━━━━━━━━━━━━━━━━━━━━━━━━━━━━━━\u001b[0m \u001b[32m198.6/198.6 kB\u001b[0m \u001b[31m12.4 MB/s\u001b[0m eta \u001b[36m0:00:00\u001b[0m\n",
            "\u001b[?25h  Building wheel for pyspark (setup.py) ... \u001b[?25l\u001b[?25hdone\n",
            "\u001b[31mERROR: pip's dependency resolver does not currently take into account all the packages that are installed. This behaviour is the source of the following dependency conflicts.\n",
            "google-spark-connect 0.5.2 requires pyspark>=3.5, but you have pyspark 3.1.2 which is incompatible.\u001b[0m\u001b[31m\n",
            "\u001b[0m"
          ]
        }
      ],
      "source": [
        "!pip install pyspark==3.1.2 -q\n",
        "!pip install findspark -q"
      ],
      "execution_count": 1
    },
    {
      "cell_type": "markdown",
      "metadata": {
        "id": "42190abf-19a7-4617-93f6-ccd3bfeb3965"
      },
      "source": [
        "### Importing Required Libraries\n",
        "\n",
        "_We recommend you import all required libraries in one place (here):_\n"
      ]
    },
    {
      "cell_type": "code",
      "metadata": {
        "id": "3d786a9d-efaf-40e2-9120-a9e938e1fe82"
      },
      "outputs": [],
      "source": [
        "# You can also use this section to suppress warnings generated by your code:\n",
        "def warn(*args, **kwargs):\n",
        "    pass\n",
        "import warnings\n",
        "warnings.warn = warn\n",
        "warnings.filterwarnings('ignore')\n",
        "\n",
        "# FindSpark simplifies the process of using Apache Spark with Python\n",
        "\n",
        "import findspark\n",
        "findspark.init()\n",
        "\n",
        "#import functions/Classes for sparkml\n",
        "\n",
        "from pyspark.sql import SparkSession"
      ],
      "execution_count": 2
    },
    {
      "cell_type": "markdown",
      "metadata": {
        "id": "46170a5f-61fd-4fba-83b5-d6286b02f0bb"
      },
      "source": [
        "# Examples\n"
      ]
    },
    {
      "cell_type": "markdown",
      "metadata": {
        "id": "44c6e8ab-90e0-4057-8b0b-4cb373bb7c1f"
      },
      "source": [
        "## Task 1 - Create a spark session\n"
      ]
    },
    {
      "cell_type": "code",
      "metadata": {
        "id": "5648794a-bec0-4f81-a0a8-8490051e76a8"
      },
      "outputs": [],
      "source": [
        "#Create SparkSession\n",
        "#Ignore any warnings by SparkSession command\n",
        "\n",
        "spark = SparkSession.builder.appName(\"SparkSQL\").getOrCreate()"
      ],
      "execution_count": 3
    },
    {
      "cell_type": "markdown",
      "metadata": {
        "id": "91ca9e98-ff3c-4a37-b148-05cbb45fb508"
      },
      "source": [
        "## Task 2 - Load csv file into a dataframe\n"
      ]
    },
    {
      "cell_type": "markdown",
      "metadata": {
        "id": "fb349968-7d1c-449f-a564-f37f257b0434"
      },
      "source": [
        "Download the data file\n"
      ]
    },
    {
      "cell_type": "code",
      "metadata": {
        "colab": {
          "base_uri": "https://localhost:8080/"
        },
        "id": "ca8b78a3-fcf7-4e81-a46e-7e14f5f843b2",
        "outputId": "54a31a82-a478-4c46-ff2e-253df4593eaf"
      },
      "outputs": [
        {
          "output_type": "stream",
          "name": "stdout",
          "text": [
            "--2025-04-06 17:10:43--  https://cf-courses-data.s3.us.cloud-object-storage.appdomain.cloud/IBM-BD0231EN-SkillsNetwork/datasets/mpg.csv\n",
            "Resolving cf-courses-data.s3.us.cloud-object-storage.appdomain.cloud (cf-courses-data.s3.us.cloud-object-storage.appdomain.cloud)... 198.23.119.245\n",
            "Connecting to cf-courses-data.s3.us.cloud-object-storage.appdomain.cloud (cf-courses-data.s3.us.cloud-object-storage.appdomain.cloud)|198.23.119.245|:443... connected.\n",
            "HTTP request sent, awaiting response... 200 OK\n",
            "Length: 13891 (14K) [text/csv]\n",
            "Saving to: ‘mpg.csv’\n",
            "\n",
            "mpg.csv             100%[===================>]  13.57K  --.-KB/s    in 0s      \n",
            "\n",
            "2025-04-06 17:10:43 (327 MB/s) - ‘mpg.csv’ saved [13891/13891]\n",
            "\n"
          ]
        }
      ],
      "source": [
        "!wget https://cf-courses-data.s3.us.cloud-object-storage.appdomain.cloud/IBM-BD0231EN-SkillsNetwork/datasets/mpg.csv\n"
      ],
      "execution_count": 4
    },
    {
      "cell_type": "markdown",
      "metadata": {
        "id": "9bcb3b6d-e369-4d05-8562-0f47f017a30f"
      },
      "source": [
        "Load the dataset into the spark dataframe\n"
      ]
    },
    {
      "cell_type": "code",
      "metadata": {
        "id": "f1418e92-2eb1-4678-ba6f-10fa6bb7b643"
      },
      "outputs": [],
      "source": [
        "# Load mpg dataset\n",
        "mpg_data = spark.read.csv(\"mpg.csv\", header=True, inferSchema=True)"
      ],
      "execution_count": 5
    },
    {
      "cell_type": "markdown",
      "metadata": {
        "id": "0fcd23b1-1a03-4630-bae2-b055ac3b00c9"
      },
      "source": [
        "## Task 3 - Create a temporary view\n"
      ]
    },
    {
      "cell_type": "markdown",
      "metadata": {
        "id": "dd0d90ed-8237-47b5-8c5d-bd8c9303f34a"
      },
      "source": [
        "Create a temporary view of the DataFrame named mileage\n"
      ]
    },
    {
      "cell_type": "code",
      "metadata": {
        "id": "03d155a3-c079-4624-b7d6-abd090e9571c"
      },
      "outputs": [],
      "source": [
        "mpg_data.createOrReplaceTempView(\"mileage\")"
      ],
      "execution_count": 6
    },
    {
      "cell_type": "markdown",
      "metadata": {
        "id": "6cbaaff3-f20e-4d97-99ce-8bb96b6c9f7e"
      },
      "source": [
        "## Task 4 - Run a SQL query on the dataframe\n"
      ]
    },
    {
      "cell_type": "markdown",
      "metadata": {
        "id": "1b249866-53a3-44f8-8a58-dc7dc336c22c"
      },
      "source": [
        "Select all cars whose mileage is more than 40\n"
      ]
    },
    {
      "cell_type": "code",
      "metadata": {
        "id": "05f77d5e-e565-4164-a42a-31eaad27f5b7"
      },
      "outputs": [],
      "source": [
        "results = spark.sql(\"SELECT * FROM mileage WHERE MPG > 40\")"
      ],
      "execution_count": 7
    },
    {
      "cell_type": "code",
      "metadata": {
        "colab": {
          "base_uri": "https://localhost:8080/"
        },
        "id": "442116ab-4403-418a-b7c3-ec6a622a7b8c",
        "outputId": "3aa8523a-4f58-44d8-ae8d-e8b1ee5a1184"
      },
      "outputs": [
        {
          "output_type": "stream",
          "name": "stdout",
          "text": [
            "+----+---------+-----------+----------+------+----------+----+--------+\n",
            "| MPG|Cylinders|Engine Disp|Horsepower|Weight|Accelerate|Year|  Origin|\n",
            "+----+---------+-----------+----------+------+----------+----+--------+\n",
            "|43.1|        4|       90.0|        48|  1985|      21.5|  78|European|\n",
            "|43.4|        4|       90.0|        48|  2335|      23.7|  80|European|\n",
            "|41.5|        4|       98.0|        76|  2144|      14.7|  80|European|\n",
            "|44.3|        4|       90.0|        48|  2085|      21.7|  80|European|\n",
            "|40.8|        4|       85.0|        65|  2110|      19.2|  80|Japanese|\n",
            "|44.6|        4|       91.0|        67|  1850|      13.8|  80|Japanese|\n",
            "|46.6|        4|       86.0|        65|  2110|      17.9|  80|Japanese|\n",
            "|44.0|        4|       97.0|        52|  2130|      24.6|  82|European|\n",
            "+----+---------+-----------+----------+------+----------+----+--------+\n",
            "\n"
          ]
        }
      ],
      "source": [
        "# show the results\n",
        "results.show()"
      ],
      "execution_count": 8
    },
    {
      "cell_type": "markdown",
      "metadata": {
        "id": "265dd3c2-ec85-43e8-9566-7cb63da15d70"
      },
      "source": [
        "## Task 5 - Analyze the dataset\n"
      ]
    },
    {
      "cell_type": "markdown",
      "metadata": {
        "id": "098a4f72-099f-42c4-9d4e-b4a05d2ad673"
      },
      "source": [
        "List all the unique Origins\n"
      ]
    },
    {
      "cell_type": "code",
      "metadata": {
        "colab": {
          "base_uri": "https://localhost:8080/"
        },
        "id": "33ad1105-a92b-40dc-b5a8-c1e0b47c6037",
        "outputId": "8767d54f-6094-4921-a155-8781e06fc664"
      },
      "outputs": [
        {
          "output_type": "stream",
          "name": "stdout",
          "text": [
            "+--------+\n",
            "|  Origin|\n",
            "+--------+\n",
            "|European|\n",
            "|Japanese|\n",
            "|American|\n",
            "+--------+\n",
            "\n"
          ]
        }
      ],
      "source": [
        "spark.sql(\"SELECT distinct Origin FROM mileage\").show()"
      ],
      "execution_count": 9
    },
    {
      "cell_type": "markdown",
      "metadata": {
        "id": "b54ea2ad-25c2-4bc1-a017-49e6e350d60d"
      },
      "source": [
        "Show the count of Japanese cars\n"
      ]
    },
    {
      "cell_type": "code",
      "metadata": {
        "colab": {
          "base_uri": "https://localhost:8080/"
        },
        "id": "8010f46d-92c5-450a-beb6-1af21bec2b22",
        "outputId": "a37e7480-2028-41ff-9dbd-d72e4cbe8ba9"
      },
      "outputs": [
        {
          "output_type": "stream",
          "name": "stdout",
          "text": [
            "+--------+\n",
            "|count(1)|\n",
            "+--------+\n",
            "|      79|\n",
            "+--------+\n",
            "\n"
          ]
        }
      ],
      "source": [
        "spark.sql(\"SELECT count(*) FROM mileage where Origin ='Japanese' \").show()"
      ],
      "execution_count": 10
    },
    {
      "cell_type": "markdown",
      "metadata": {
        "id": "fef31392-da4f-4f9c-a176-26e0e4ab6c02"
      },
      "source": [
        "Count the number of cars with mileage greater than 40\n"
      ]
    },
    {
      "cell_type": "code",
      "metadata": {
        "colab": {
          "base_uri": "https://localhost:8080/"
        },
        "id": "c3347693-9748-4aa9-bb80-2d6cf50e230f",
        "outputId": "be725e90-5288-433b-fc5f-3a012d64e54f"
      },
      "outputs": [
        {
          "output_type": "stream",
          "name": "stdout",
          "text": [
            "+--------+\n",
            "|count(1)|\n",
            "+--------+\n",
            "|       8|\n",
            "+--------+\n",
            "\n"
          ]
        }
      ],
      "source": [
        "spark.sql(\"SELECT count(*) FROM mileage where MPG > 40\").show()"
      ],
      "execution_count": 11
    },
    {
      "cell_type": "markdown",
      "metadata": {
        "id": "84219b39-e2fd-4de1-b812-506e65f66599"
      },
      "source": [
        "List the number of cars made in different Years\n"
      ]
    },
    {
      "cell_type": "code",
      "metadata": {
        "colab": {
          "base_uri": "https://localhost:8080/"
        },
        "id": "015c6497-4d03-45e9-8022-1535ccda4ed3",
        "outputId": "e270ed69-ed87-4ddd-9ff5-250c7e54a441"
      },
      "outputs": [
        {
          "output_type": "stream",
          "name": "stdout",
          "text": [
            "+----+-----------+\n",
            "|Year|count(Year)|\n",
            "+----+-----------+\n",
            "|  78|         36|\n",
            "|  81|         28|\n",
            "|  76|         34|\n",
            "|  72|         28|\n",
            "|  77|         28|\n",
            "|  82|         30|\n",
            "|  80|         27|\n",
            "|  73|         40|\n",
            "|  70|         29|\n",
            "|  75|         30|\n",
            "|  71|         27|\n",
            "|  79|         29|\n",
            "|  74|         26|\n",
            "+----+-----------+\n",
            "\n"
          ]
        }
      ],
      "source": [
        "spark.sql(\"SELECT Year, count(Year) FROM mileage group by Year\").show()"
      ],
      "execution_count": 12
    },
    {
      "cell_type": "markdown",
      "metadata": {
        "id": "754d9cc4-53e6-4b94-9fdc-a5958bd38bc8"
      },
      "source": [
        "Print the maximum MPG\n"
      ]
    },
    {
      "cell_type": "code",
      "metadata": {
        "colab": {
          "base_uri": "https://localhost:8080/"
        },
        "id": "e92b2e36-0eab-4a36-8fe9-6dacba5cd5d3",
        "outputId": "576fdc4d-fd21-49e5-a146-e41defb7fc6c"
      },
      "outputs": [
        {
          "output_type": "stream",
          "name": "stdout",
          "text": [
            "+--------+\n",
            "|max(MPG)|\n",
            "+--------+\n",
            "|    46.6|\n",
            "+--------+\n",
            "\n"
          ]
        }
      ],
      "source": [
        "spark.sql(\"SELECT max(MPG) FROM mileage\").show()"
      ],
      "execution_count": 13
    },
    {
      "cell_type": "markdown",
      "metadata": {
        "id": "2d8afae0-4750-428c-8aa2-ec5294ed6e8e"
      },
      "source": [
        "Stop Spark Session\n"
      ]
    },
    {
      "cell_type": "code",
      "metadata": {
        "id": "abe95a3a-bd57-417c-85f9-15d286263a36"
      },
      "outputs": [],
      "source": [
        "spark.stop()"
      ],
      "execution_count": 14
    },
    {
      "cell_type": "markdown",
      "metadata": {
        "id": "1f909b45-4206-4a91-b58c-eb8c90e6e29b"
      },
      "source": [
        "# Exercises\n"
      ]
    },
    {
      "cell_type": "markdown",
      "metadata": {
        "id": "1d5e8e53-2c99-4730-9f3a-8d9210ecf387"
      },
      "source": [
        "### Exercise 1 - Create a spark session\n"
      ]
    },
    {
      "cell_type": "markdown",
      "metadata": {
        "id": "f71cbf78-b22d-480f-bd3c-9b2596e884b9"
      },
      "source": [
        "Create a spark session with appname \"SparkSQL Exercise\"\n"
      ]
    },
    {
      "cell_type": "code",
      "metadata": {
        "id": "8e02e71d-4cc7-4103-83b1-d28fcdc47b27"
      },
      "outputs": [],
      "source": [
        "spark = SparkSession.builder.appName(\"SparkSQL Exercise\").getOrCreate()"
      ],
      "execution_count": 15
    },
    {
      "cell_type": "markdown",
      "metadata": {
        "id": "71fb397f-056a-4771-b833-396951f360c9"
      },
      "source": [
        "<details>\n",
        "    <summary>Click here for a Hint</summary>\n",
        "    \n",
        "use the SparkSession.builder\n",
        "</details>\n"
      ]
    },
    {
      "cell_type": "markdown",
      "metadata": {
        "id": "d8b8e378-019c-4e61-9456-759d905b2c78"
      },
      "source": [
        "<details>\n",
        "    <summary>Click here for Solution</summary>\n",
        "\n",
        "```\n",
        "spark = SparkSession.builder.appName(\"SparkSQL Exercise\").getOrCreate()\n",
        "```\n",
        "\n",
        "</details>\n"
      ]
    },
    {
      "cell_type": "markdown",
      "metadata": {
        "id": "addbbea0-f9b6-41c9-8aa3-0fb438ce8039"
      },
      "source": [
        "### Exercise 2 - Load csv file into a dataframe\n"
      ]
    },
    {
      "cell_type": "markdown",
      "metadata": {
        "id": "afd556c3-33df-4401-a349-d2ec42256b40"
      },
      "source": [
        "Download the data file\n"
      ]
    },
    {
      "cell_type": "code",
      "metadata": {
        "colab": {
          "base_uri": "https://localhost:8080/"
        },
        "id": "67406233-5600-4d83-837b-e2db02adde9a",
        "outputId": "f64eff6d-4971-474f-d28b-8074efb0e1bb"
      },
      "outputs": [
        {
          "output_type": "stream",
          "name": "stdout",
          "text": [
            "--2025-04-06 17:12:33--  https://cf-courses-data.s3.us.cloud-object-storage.appdomain.cloud/IBM-BD0231EN-SkillsNetwork/datasets/diamonds.csv\n",
            "Resolving cf-courses-data.s3.us.cloud-object-storage.appdomain.cloud (cf-courses-data.s3.us.cloud-object-storage.appdomain.cloud)... 169.45.118.108\n",
            "Connecting to cf-courses-data.s3.us.cloud-object-storage.appdomain.cloud (cf-courses-data.s3.us.cloud-object-storage.appdomain.cloud)|169.45.118.108|:443... connected.\n",
            "HTTP request sent, awaiting response... 200 OK\n",
            "Length: 3192561 (3.0M) [text/csv]\n",
            "Saving to: ‘diamonds.csv’\n",
            "\n",
            "diamonds.csv        100%[===================>]   3.04M  4.90MB/s    in 0.6s    \n",
            "\n",
            "2025-04-06 17:12:35 (4.90 MB/s) - ‘diamonds.csv’ saved [3192561/3192561]\n",
            "\n"
          ]
        }
      ],
      "source": [
        "!wget https://cf-courses-data.s3.us.cloud-object-storage.appdomain.cloud/IBM-BD0231EN-SkillsNetwork/datasets/diamonds.csv"
      ],
      "execution_count": 16
    },
    {
      "cell_type": "markdown",
      "metadata": {
        "id": "5bcd39db-2e72-4a0c-a32e-38fd833211ff"
      },
      "source": [
        "Load the diamonds dataset into the spark dataframe\n"
      ]
    },
    {
      "cell_type": "code",
      "metadata": {
        "id": "0dc44a98-e056-41a1-8dbb-7f906a1cf40f"
      },
      "outputs": [],
      "source": [
        "diamond_data = spark.read.csv(\"diamonds.csv\", header=True, inferSchema=True)"
      ],
      "execution_count": 18
    },
    {
      "cell_type": "markdown",
      "metadata": {
        "id": "433a24a7-b603-4d07-bddb-2cd481f143ae"
      },
      "source": [
        "<details>\n",
        "    <summary>Click here for a Hint</summary>\n",
        "    \n",
        "use the read.csv function</details>\n"
      ]
    },
    {
      "cell_type": "markdown",
      "metadata": {
        "id": "9f8d02fe-5318-4171-b7f6-fabf6b148ee9"
      },
      "source": [
        "<details>\n",
        "    <summary>Click here for Solution</summary>\n",
        "\n",
        "```\n",
        "diamond_data = spark.read.csv(\"diamonds.csv\", header=True, inferSchema=True)\n",
        "\n",
        "```\n",
        "\n",
        "</details>\n"
      ]
    },
    {
      "cell_type": "markdown",
      "metadata": {
        "id": "f175802d-99da-4f19-87d5-5cbd876d6d8b"
      },
      "source": [
        "### Exercise 3 - Create a temporary view\n"
      ]
    },
    {
      "cell_type": "markdown",
      "metadata": {
        "id": "537acbf2-ecb0-496f-a8c8-cab2d1ce617b"
      },
      "source": [
        "Create a temporary view of the DataFrame named diamonds\n"
      ]
    },
    {
      "cell_type": "code",
      "metadata": {
        "id": "d26ed3d6-c901-4ada-8312-3f967bddad65"
      },
      "outputs": [],
      "source": [
        "diamond_data.createOrReplaceTempView('diamonds')"
      ],
      "execution_count": 19
    },
    {
      "cell_type": "markdown",
      "metadata": {
        "id": "f0d2ce4a-5e46-408c-9e9d-8fcd4e09c7d8"
      },
      "source": [
        "<details>\n",
        "    <summary>Click here for a Hint</summary>\n",
        "    \n",
        "use the createOrReplaceTempView method on the dataframe\n",
        "</details>\n"
      ]
    },
    {
      "cell_type": "markdown",
      "metadata": {
        "id": "540ff8b9-20ab-4dec-850c-ac3d5b9c485f"
      },
      "source": [
        "<details>\n",
        "    <summary>Click here for Solution</summary>\n",
        "\n",
        "```\n",
        "diamond_data.createOrReplaceTempView(\"diamonds\")\n",
        "\n",
        "```\n",
        "\n",
        "</details>\n"
      ]
    },
    {
      "cell_type": "markdown",
      "metadata": {
        "id": "2d451786-772c-4763-93d9-d8320f1f482b"
      },
      "source": [
        "### Exercise 4 - Run a SQL query on the dataframe\n"
      ]
    },
    {
      "cell_type": "markdown",
      "metadata": {
        "id": "74dd7d12-ad71-4dbb-99cd-9b3f6c86e591"
      },
      "source": [
        "Select all rows\n"
      ]
    },
    {
      "cell_type": "code",
      "metadata": {
        "colab": {
          "base_uri": "https://localhost:8080/"
        },
        "id": "0a1aa6bd-13da-4f24-908b-298548041316",
        "outputId": "c4900481-e0a3-46fb-c218-6ce4adf099ea"
      },
      "outputs": [
        {
          "output_type": "stream",
          "name": "stdout",
          "text": [
            "+---+-----+---------+-----+-------+-----+-----+-----+----+----+----+\n",
            "|  s|carat|      cut|color|clarity|depth|table|price|   x|   y|   z|\n",
            "+---+-----+---------+-----+-------+-----+-----+-----+----+----+----+\n",
            "|  1| 0.23|    Ideal|    E|    SI2| 61.5| 55.0|  326|3.95|3.98|2.43|\n",
            "|  2| 0.21|  Premium|    E|    SI1| 59.8| 61.0|  326|3.89|3.84|2.31|\n",
            "|  3| 0.23|     Good|    E|    VS1| 56.9| 65.0|  327|4.05|4.07|2.31|\n",
            "|  4| 0.29|  Premium|    I|    VS2| 62.4| 58.0|  334| 4.2|4.23|2.63|\n",
            "|  5| 0.31|     Good|    J|    SI2| 63.3| 58.0|  335|4.34|4.35|2.75|\n",
            "|  6| 0.24|Very Good|    J|   VVS2| 62.8| 57.0|  336|3.94|3.96|2.48|\n",
            "|  7| 0.24|Very Good|    I|   VVS1| 62.3| 57.0|  336|3.95|3.98|2.47|\n",
            "|  8| 0.26|Very Good|    H|    SI1| 61.9| 55.0|  337|4.07|4.11|2.53|\n",
            "|  9| 0.22|     Fair|    E|    VS2| 65.1| 61.0|  337|3.87|3.78|2.49|\n",
            "| 10| 0.23|Very Good|    H|    VS1| 59.4| 61.0|  338| 4.0|4.05|2.39|\n",
            "| 11|  0.3|     Good|    J|    SI1| 64.0| 55.0|  339|4.25|4.28|2.73|\n",
            "| 12| 0.23|    Ideal|    J|    VS1| 62.8| 56.0|  340|3.93| 3.9|2.46|\n",
            "| 13| 0.22|  Premium|    F|    SI1| 60.4| 61.0|  342|3.88|3.84|2.33|\n",
            "| 14| 0.31|    Ideal|    J|    SI2| 62.2| 54.0|  344|4.35|4.37|2.71|\n",
            "| 15|  0.2|  Premium|    E|    SI2| 60.2| 62.0|  345|3.79|3.75|2.27|\n",
            "| 16| 0.32|  Premium|    E|     I1| 60.9| 58.0|  345|4.38|4.42|2.68|\n",
            "| 17|  0.3|    Ideal|    I|    SI2| 62.0| 54.0|  348|4.31|4.34|2.68|\n",
            "| 18|  0.3|     Good|    J|    SI1| 63.4| 54.0|  351|4.23|4.29| 2.7|\n",
            "| 19|  0.3|     Good|    J|    SI1| 63.8| 56.0|  351|4.23|4.26|2.71|\n",
            "| 20|  0.3|Very Good|    J|    SI1| 62.7| 59.0|  351|4.21|4.27|2.66|\n",
            "+---+-----+---------+-----+-------+-----+-----+-----+----+----+----+\n",
            "only showing top 20 rows\n",
            "\n"
          ]
        }
      ],
      "source": [
        "results = spark.sql(\"SELECT * FROM diamonds\")\n",
        "results.show()"
      ],
      "execution_count": 20
    },
    {
      "cell_type": "markdown",
      "metadata": {
        "id": "3f7a61a8-d26a-4c5f-af8f-73ea9124d9d8"
      },
      "source": [
        "<details>\n",
        "    <summary>Click here for a Hint</summary>\n",
        "    \n",
        "use the select statement on diamonds view\n",
        "</details>\n"
      ]
    },
    {
      "cell_type": "markdown",
      "metadata": {
        "id": "9d16d4b1-f690-405a-9e64-1bd3dcadd71d"
      },
      "source": [
        "<details>\n",
        "    <summary>Click here for Solution</summary>\n",
        "\n",
        "```\n",
        "results = spark.sql(\"SELECT * FROM diamonds\")\n",
        "results.show()\n",
        "```\n",
        "\n",
        "</details>\n"
      ]
    },
    {
      "cell_type": "markdown",
      "metadata": {
        "id": "2b8bbf6c-4141-42a8-a9e2-5b38b250d652"
      },
      "source": [
        "### Exercise 5 - Analyze the dataset\n"
      ]
    },
    {
      "cell_type": "markdown",
      "metadata": {
        "id": "57d19a53-528c-4309-a476-4e5dd38020d0"
      },
      "source": [
        "List all the unique Cuts\n"
      ]
    },
    {
      "cell_type": "code",
      "metadata": {
        "colab": {
          "base_uri": "https://localhost:8080/"
        },
        "id": "4f6b3366-e299-48e0-b397-4bccae6f5a53",
        "outputId": "d0d1f817-0d2c-4636-df02-7003b5f0d1b4"
      },
      "outputs": [
        {
          "output_type": "stream",
          "name": "stdout",
          "text": [
            "+---------+\n",
            "|      cut|\n",
            "+---------+\n",
            "|  Premium|\n",
            "|    Ideal|\n",
            "|     Good|\n",
            "|     Fair|\n",
            "|Very Good|\n",
            "+---------+\n",
            "\n"
          ]
        }
      ],
      "source": [
        "results = spark.sql(\"SELECT distinct cut FROM diamonds\")\n",
        "results.show()"
      ],
      "execution_count": 21
    },
    {
      "cell_type": "markdown",
      "metadata": {
        "id": "cce7b5c8-6702-4d7f-8cde-7526cb7d24d0"
      },
      "source": [
        "<details>\n",
        "    <summary>Click here for a Hint</summary>\n",
        "    \n",
        "use the select with distinct on cut column\n",
        "</details>\n"
      ]
    },
    {
      "cell_type": "markdown",
      "metadata": {
        "id": "f4f0865a-ff75-4234-a8cd-275c657d50bb"
      },
      "source": [
        "<details>\n",
        "    <summary>Click here for Solution</summary>\n",
        "\n",
        "```\n",
        "spark.sql(\"SELECT distinct cut FROM diamonds\").show()\n",
        "```\n",
        "\n",
        "</details>\n"
      ]
    },
    {
      "cell_type": "markdown",
      "metadata": {
        "id": "f30e1252-1aa3-4aff-bbc8-72d93fe5492e"
      },
      "source": [
        "Show the count of Premium Cut diamonds\n"
      ]
    },
    {
      "cell_type": "code",
      "metadata": {
        "colab": {
          "base_uri": "https://localhost:8080/"
        },
        "id": "5362dc7e-5190-405a-abf8-d16be85b8d12",
        "outputId": "38d72a38-ff90-4d45-8ab1-5f8f4711b7f3"
      },
      "outputs": [
        {
          "output_type": "stream",
          "name": "stdout",
          "text": [
            "+--------+\n",
            "|count(1)|\n",
            "+--------+\n",
            "|   13791|\n",
            "+--------+\n",
            "\n"
          ]
        }
      ],
      "source": [
        "results = spark.sql(\"SELECT count(*) FROM diamonds WHERE cut = 'Premium'\")\n",
        "results.show()"
      ],
      "execution_count": 25
    },
    {
      "cell_type": "markdown",
      "metadata": {
        "id": "976efdbc-5220-408b-989f-769161bbe96e"
      },
      "source": [
        "<details>\n",
        "    <summary>Click here for a Hint</summary>\n",
        "    \n",
        "use the count function with a where clause\n",
        "</details>\n"
      ]
    },
    {
      "cell_type": "markdown",
      "metadata": {
        "id": "1350bcc6-40e2-4604-834a-ae91b0df9017"
      },
      "source": [
        "<details>\n",
        "    <summary>Click here for Solution</summary>\n",
        "\n",
        "```\n",
        "spark.sql(\"SELECT count(*) FROM diamonds where cut ='Premium' \").show()\n",
        "```\n",
        "\n",
        "</details>\n"
      ]
    },
    {
      "cell_type": "markdown",
      "metadata": {
        "id": "93c8d0fe-9215-4da9-ba99-2bf3034db015"
      },
      "source": [
        "Count the number of diamonds with table size greater than 65\n"
      ]
    },
    {
      "cell_type": "code",
      "metadata": {
        "id": "d4d59b0e-5a5e-47c6-b9ed-83daf1a3f56f"
      },
      "outputs": [],
      "source": [],
      "execution_count": null
    },
    {
      "cell_type": "markdown",
      "metadata": {
        "id": "8c195fce-5d00-4cf6-8c87-be1b413a6f65"
      },
      "source": [
        "<details>\n",
        "    <summary>Click here for a Hint</summary>\n",
        "    \n",
        "use the count function with a where clause\n",
        "</details>\n"
      ]
    },
    {
      "cell_type": "markdown",
      "metadata": {
        "id": "cbae1858-783d-410e-841b-51b5ee5dda0e"
      },
      "source": [
        "<details>\n",
        "    <summary>Click here for Solution</summary>\n",
        "\n",
        "```\n",
        "spark.sql(\"SELECT count(*) FROM diamonds where table > 65\").show()\n",
        "```\n",
        "\n",
        "</details>\n"
      ]
    },
    {
      "cell_type": "markdown",
      "metadata": {
        "id": "aaaadc8c-7349-4688-b059-3667039798c6"
      },
      "source": [
        "List the number of diamonds under each color\n"
      ]
    },
    {
      "cell_type": "code",
      "metadata": {
        "id": "d97bb8ab-bc92-4f6c-b644-4f5d07ae26a1"
      },
      "outputs": [],
      "source": [
        "#your code goes here"
      ],
      "execution_count": null
    },
    {
      "cell_type": "markdown",
      "metadata": {
        "id": "eb4153c3-bf0f-43b1-bbc6-1a693271d581"
      },
      "source": [
        "<details>\n",
        "    <summary>Click here for a Hint</summary>\n",
        "    \n",
        "use the count function on color column with a groupby on color\n",
        "</details>\n"
      ]
    },
    {
      "cell_type": "markdown",
      "metadata": {
        "id": "ef8c2b4d-3ee7-497e-8ec7-3397117c0ee5"
      },
      "source": [
        "<details>\n",
        "    <summary>Click here for Solution</summary>\n",
        "\n",
        "```\n",
        "spark.sql(\"SELECT color, count(color) FROM diamonds group by color\").show()\n",
        "```\n",
        "\n",
        "</details>\n"
      ]
    },
    {
      "cell_type": "markdown",
      "metadata": {
        "id": "7f6cbd3b-6eb8-4288-9236-eb42b54aad24"
      },
      "source": [
        "Print the maximum price\n"
      ]
    },
    {
      "cell_type": "code",
      "metadata": {
        "id": "763cdb35-5fbe-4abe-b055-bf862bd4d333"
      },
      "outputs": [],
      "source": [
        "#your code goes here"
      ],
      "execution_count": null
    },
    {
      "cell_type": "markdown",
      "metadata": {
        "id": "95f93a8e-cfe1-4071-9085-97e3e320c527"
      },
      "source": [
        "<details>\n",
        "    <summary>Click here for a Hint</summary>\n",
        "    \n",
        "use the max function on price column\n",
        "</details>\n"
      ]
    },
    {
      "cell_type": "markdown",
      "metadata": {
        "id": "fbf86d9e-d65b-4ee6-9d61-d559cb527765"
      },
      "source": [
        "<details>\n",
        "    <summary>Click here for Solution</summary>\n",
        "\n",
        "```\n",
        "spark.sql(\"SELECT max(price) FROM diamonds\").show()\n",
        "```\n",
        "\n",
        "</details>\n"
      ]
    },
    {
      "cell_type": "markdown",
      "metadata": {
        "id": "7f048d8f-aba4-4ac9-adaf-10b97871cc38"
      },
      "source": [
        "Stop Spark Session\n"
      ]
    },
    {
      "cell_type": "code",
      "metadata": {
        "id": "9aeafd80-cf76-4f72-8a8b-0a8557bc81f4"
      },
      "outputs": [],
      "source": [
        "spark.stop()"
      ],
      "execution_count": null
    },
    {
      "cell_type": "markdown",
      "metadata": {
        "id": "f0c113be-7b2e-4ea3-afed-08a36279db81"
      },
      "source": [
        "Congratulations you have completed this lab.<br>\n"
      ]
    },
    {
      "cell_type": "markdown",
      "metadata": {
        "id": "be485364-d9b7-498e-a562-cd625d7a1117"
      },
      "source": [
        "## Authors\n"
      ]
    },
    {
      "cell_type": "markdown",
      "metadata": {
        "id": "b42c7e97-a921-4b9f-a756-65fca6b9c8a4"
      },
      "source": [
        "[Ramesh Sannareddy](https://www.linkedin.com/in/rsannareddy/?utm_medium=Exinfluencer&utm_source=Exinfluencer&utm_content=000026UJ&utm_term=10006555&utm_id=NA-SkillsNetwork-Channel-SkillsNetworkCoursesIBMBD0231ENSkillsNetwork866-2023-01-01)\n"
      ]
    },
    {
      "cell_type": "markdown",
      "metadata": {
        "id": "da8bbf62-1e51-4e3b-9dae-5f9bf64c836d"
      },
      "source": [
        "### Other Contributors\n"
      ]
    },
    {
      "cell_type": "markdown",
      "metadata": {
        "id": "11cf4a32-b644-440b-8416-2716f07f3341"
      },
      "source": [
        "Copyright © 2023 IBM Corporation. All rights reserved.\n"
      ]
    },
    {
      "cell_type": "markdown",
      "metadata": {
        "id": "e67a973d-f970-433c-b55b-d3a076380917"
      },
      "source": [
        "<!--\n",
        "## Change Log\n",
        "-->\n"
      ]
    },
    {
      "cell_type": "markdown",
      "metadata": {
        "id": "0a44f0ca-941e-4fca-bd04-efef84620da6"
      },
      "source": [
        "<!--\n",
        "|Date (YYYY-MM-DD)|Version|Changed By|Change Description|\n",
        "|-|-|-|-|\n",
        "|2023-05-04|0.1|Ramesh Sannareddy|Initial Version Created|\n",
        "-->\n"
      ]
    }
  ],
  "metadata": {
    "kernelspec": {
      "display_name": "Python",
      "language": "python",
      "name": "conda-env-python-py"
    },
    "language_info": {
      "name": "python",
      "version": "3.7.12",
      "mimetype": "text/x-python",
      "codemirror_mode": {
        "name": "ipython",
        "version": 3
      },
      "pygments_lexer": "ipython3",
      "nbconvert_exporter": "python",
      "file_extension": ".py"
    },
    "prev_pub_hash": "a391e24e3daa16c4386301f44198f17ee92d59e53325e6062333c2817e9001fe",
    "colab": {
      "provenance": [],
      "include_colab_link": true
    }
  },
  "nbformat": 4,
  "nbformat_minor": 0
}