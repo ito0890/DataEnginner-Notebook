{
  "cells": [
    {
      "cell_type": "markdown",
      "metadata": {
        "id": "view-in-github",
        "colab_type": "text"
      },
      "source": [
        "<a href=\"https://colab.research.google.com/github/ito0890/DataEnginner-Notebook/blob/main/13_05_ML_Pipelines_using_SparkML.ipynb\" target=\"_parent\"><img src=\"https://colab.research.google.com/assets/colab-badge.svg\" alt=\"Open In Colab\"/></a>"
      ]
    },
    {
      "cell_type": "markdown",
      "metadata": {
        "id": "7b5d2aee-e7d1-47dc-9216-64c6a91f6837"
      },
      "source": [
        "<p style=\"text-align:center\">\n",
        "    <a href=\"https://skills.network/?utm_medium=Exinfluencer&utm_source=Exinfluencer&utm_content=000026UJ&utm_term=10006555&utm_id=NA-SkillsNetwork-Channel-SkillsNetworkCoursesIBMSkillsNetworkBD0231ENCoursera2789-2023-01-01\">\n",
        "    <img src=\"https://cf-courses-data.s3.us.cloud-object-storage.appdomain.cloud/assets/logos/SN_web_lightmode.png\" width=\"200\" alt=\"Skills Network Logo\">\n",
        "    </a>\n",
        "</p>\n"
      ]
    },
    {
      "cell_type": "markdown",
      "metadata": {
        "id": "c0e6bfff-bb93-4012-9e71-c91013d97736"
      },
      "source": [
        "## ML Pipelines using SparkML\n"
      ]
    },
    {
      "cell_type": "markdown",
      "metadata": {
        "id": "7224a582-64e4-4524-9261-2afe56a14857"
      },
      "source": [
        "Estimated time needed: **30** minutes\n"
      ]
    },
    {
      "cell_type": "markdown",
      "metadata": {
        "id": "10f64982-6bba-4ac3-b87e-3b16386596d2"
      },
      "source": [
        "<p style='color: red'>The purpose of this lab is to show you how to use SparkML to create a machine learning pipelines.\n"
      ]
    },
    {
      "cell_type": "markdown",
      "metadata": {
        "id": "ac9fa3cb-ff0f-4f38-9b1e-b2505a301dd2"
      },
      "source": [
        "## __Table of Contents__\n",
        "\n",
        "<ol>\n",
        "  <li>\n",
        "    <a href=\"#Objectives\">Objectives\n",
        "    </a>\n",
        "  </li>\n",
        "  <li>\n",
        "    <a href=\"#Datasets\">Datasets\n",
        "    </a>\n",
        "  </li>\n",
        "  <li>\n",
        "    <a href=\"#Setup\">Setup\n",
        "    </a>\n",
        "    <ol>\n",
        "      <li>\n",
        "        <a href=\"#Installing-Required-Libraries\">Installing Required Libraries\n",
        "        </a>\n",
        "      </li>\n",
        "      <li>\n",
        "        <a href=\"#Importing-Required-Libraries\">Importing Required Libraries\n",
        "        </a>\n",
        "      </li>\n",
        "    </ol>\n",
        "  </li>\n",
        "  <li>\n",
        "    <a href=\"#Examples\">Examples\n",
        "    </a>\n",
        "    <ol>\n",
        "    <li>\n",
        "      <a href=\"#Task-1---Load-data-set\">Task 1 - Load data set\n",
        "      </a>\n",
        "    </li>\n",
        "    <li>\n",
        "      <a href=\"#Task-2---Define-pipeline-stages\">Task 2 - Define pipeline stages\n",
        "      </a>\n",
        "    </li>\n",
        "    <li>\n",
        "      <a href=\"#Task-3---Build-the-pipeline\">Task 3 - Build the pipeline\n",
        "      </a>\n",
        "    </li>\n",
        "    <li>\n",
        "      <a href=\"#Task-4---Split-the-data\">Task 4 - Split the data\n",
        "      </a>\n",
        "    </li>\n",
        "    <li>\n",
        "      <a href=\"#Task-5---Fit-the-pipeline\">Task 5 - Fit the pipeline\n",
        "      </a>\n",
        "    </li>\n",
        "    <li>\n",
        "      <a href=\"#Task-6---Evaluate-the-model\">Task 6 - Evaluate the model\n",
        "      </a>\n",
        "    </li>\n",
        "    </ol>\n",
        "  </li>\n",
        "  <li>\n",
        "    <a href=\"#Exercises\">Exercises\n",
        "    </a>\n",
        "  </li>\n",
        "  <ol>\n",
        "    <li>\n",
        "      <a href=\"#Exercise-1---Load-data-set\">Exercise 1 - Load data set\n",
        "      </a>\n",
        "    </li>\n",
        "    <li>\n",
        "      <a href=\"#Exercise-2---Define-pipeline-stages\">Exercise 2 - Define pipeline stages\n",
        "      </a>\n",
        "    </li>\n",
        "    <li>\n",
        "      <a href=\"#Exercise-3---Build-the-pipeline\">Exercise 3 - Build the pipeline\n",
        "      </a>\n",
        "    </li>\n",
        "    <li>\n",
        "      <a href=\"#Exercise-4---Split-the-data\">Exercise 4 - Split the data\n",
        "      </a>\n",
        "    </li>\n",
        "    <li>\n",
        "      <a href=\"#Exercise-5---Fit-the-pipeline\">Exercise 5 - Fit the pipeline\n",
        "      </a>\n",
        "    </li>\n",
        "    <li>\n",
        "      <a href=\"#Exercise-6---Evaluate-the-model\">Exercise 6 - Evaluate the model\n",
        "      </a>\n",
        "    </li>\n",
        "  </ol>\n",
        "</ol>\n"
      ]
    },
    {
      "cell_type": "markdown",
      "metadata": {
        "id": "5ab4105c-983c-4d94-9aac-57d363d265b7"
      },
      "source": [
        "## Objectives\n",
        "\n",
        "After completing this lab you will be able to:\n",
        "\n",
        " - Create a machine learning pipeline.\n",
        " - Add stages to the pipeline.\n",
        " - Run the pipeline.\n",
        " - Create a machine learning pipeline for regression.\n",
        " - Create a machine learning pipeline for classification.\n"
      ]
    },
    {
      "cell_type": "markdown",
      "metadata": {
        "id": "eca8159e-7b47-49f4-a975-fbeeec61c4d7"
      },
      "source": [
        "## Datasets\n",
        "\n",
        "In this lab you will be using dataset(s):\n",
        "\n",
        " - Modified version of car mileage dataset. Original dataset available at https://archive.ics.uci.edu/ml/datasets/auto+mpg\n",
        "  - Modified version of iris dataset. Original dataset available at https://archive.ics.uci.edu/ml/datasets/Iris\n"
      ]
    },
    {
      "cell_type": "markdown",
      "metadata": {
        "id": "c1e7692d-e73e-456b-b029-8c27e727b640"
      },
      "source": [
        "----\n"
      ]
    },
    {
      "cell_type": "markdown",
      "metadata": {
        "id": "85165b5c-5ea9-46f9-aa74-829601d12641"
      },
      "source": [
        "## Setup\n"
      ]
    },
    {
      "cell_type": "markdown",
      "metadata": {
        "id": "233341cd-679e-4f6e-9506-0bdd251d82b9"
      },
      "source": [
        "For this lab, we will be using the following libraries:\n",
        "\n",
        "*   [`PySpark`](https://spark.apache.org/docs/latest/api/python/index.html?utm_medium=Exinfluencer&utm_source=Exinfluencer&utm_content=000026UJ&utm_term=10006555&utm_id=NA-SkillsNetwork-Channel-SkillsNetworkCoursesIBMSkillsNetworkBD0231ENCoursera2789-2023-01-01) for connecting to the Spark Cluster\n"
      ]
    },
    {
      "cell_type": "markdown",
      "metadata": {
        "id": "403673f6-abbf-4317-bccf-e519c96772e8"
      },
      "source": [
        "### Installing Required Libraries\n",
        "\n",
        "Spark Cluster is pre-installed in the Skills Network Labs environment. However, you need libraries like pyspark and findspark to connect to this cluster.\n",
        "\n",
        "If you wish to download this jupyter notebook and run on your local computer, follow the instructions mentioned <a href=\"https://cf-courses-data.s3.us.cloud-object-storage.appdomain.cloud/IBMSkillsNetwork-BD0231EN-Coursera/labs/Connecting_to_spark_cluster_using_Skills_Network_labs.ipynb\">here.</a>\n",
        "\n"
      ]
    },
    {
      "cell_type": "markdown",
      "metadata": {
        "id": "c5e08c83-7f9a-4808-9908-09a46e917629"
      },
      "source": [
        "The following required libraries are __not__ pre-installed in the Skills Network Labs environment. __You will need to run the following cell__ to install them:\n"
      ]
    },
    {
      "cell_type": "code",
      "metadata": {
        "colab": {
          "base_uri": "https://localhost:8080/"
        },
        "id": "d9fbd950-9c3b-4633-a8c5-091856777a6a",
        "outputId": "d8c9f93b-e849-479f-a8bd-43ae7e83f05e"
      },
      "outputs": [
        {
          "output_type": "stream",
          "name": "stdout",
          "text": [
            "\u001b[2K     \u001b[90m━━━━━━━━━━━━━━━━━━━━━━━━━━━━━━━━━━━━━━━━\u001b[0m \u001b[32m212.4/212.4 MB\u001b[0m \u001b[31m4.4 MB/s\u001b[0m eta \u001b[36m0:00:00\u001b[0m\n",
            "\u001b[?25h  Preparing metadata (setup.py) ... \u001b[?25l\u001b[?25hdone\n",
            "\u001b[2K   \u001b[90m━━━━━━━━━━━━━━━━━━━━━━━━━━━━━━━━━━━━━━━━\u001b[0m \u001b[32m198.6/198.6 kB\u001b[0m \u001b[31m10.9 MB/s\u001b[0m eta \u001b[36m0:00:00\u001b[0m\n",
            "\u001b[?25h  Building wheel for pyspark (setup.py) ... \u001b[?25l\u001b[?25hdone\n",
            "\u001b[31mERROR: pip's dependency resolver does not currently take into account all the packages that are installed. This behaviour is the source of the following dependency conflicts.\n",
            "google-spark-connect 0.5.2 requires pyspark>=3.5, but you have pyspark 3.1.2 which is incompatible.\u001b[0m\u001b[31m\n",
            "\u001b[0m"
          ]
        }
      ],
      "source": [
        "!pip install pyspark==3.1.2 -q\n",
        "!pip install findspark -q"
      ],
      "execution_count": 1
    },
    {
      "cell_type": "markdown",
      "metadata": {
        "id": "5d1a6bc1-ad2a-4981-a3d1-aaf87ee20e9f"
      },
      "source": [
        "### Importing Required Libraries\n",
        "\n",
        "_We recommend you import all required libraries in one place (here):_\n"
      ]
    },
    {
      "cell_type": "code",
      "metadata": {
        "id": "f94ac461-d13e-4a62-867f-eaacc298d132"
      },
      "outputs": [],
      "source": [
        "# You can also use this section to suppress warnings generated by your code:\n",
        "def warn(*args, **kwargs):\n",
        "    pass\n",
        "import warnings\n",
        "warnings.warn = warn\n",
        "warnings.filterwarnings('ignore')\n",
        "\n",
        "# FindSpark simplifies the process of using Apache Spark with Python\n",
        "\n",
        "import findspark\n",
        "findspark.init()\n",
        "\n",
        "#import functions/Classes for sparkml\n",
        "\n",
        "from pyspark.ml.regression import LinearRegression\n",
        "from pyspark.ml.classification import LogisticRegression\n",
        "\n",
        "from pyspark.ml.feature import VectorAssembler\n",
        "from pyspark.ml.feature import StandardScaler\n",
        "from pyspark.ml.feature import StringIndexer\n",
        "\n",
        "from pyspark.sql import SparkSession\n",
        "\n",
        "\n",
        "# import functions/Classes for pipeline creation\n",
        "\n",
        "from pyspark.ml import Pipeline\n",
        "\n",
        "# import functions/Classes for metrics\n",
        "from pyspark.ml.evaluation import RegressionEvaluator\n",
        "from pyspark.ml.evaluation import MulticlassClassificationEvaluator\n"
      ],
      "execution_count": 2
    },
    {
      "cell_type": "markdown",
      "metadata": {
        "id": "9c043ac4-0f42-40d6-bccc-8f30ebc7e7b4"
      },
      "source": [
        "# Examples\n"
      ]
    },
    {
      "cell_type": "markdown",
      "metadata": {
        "id": "3794b537-2ce0-4881-b0d1-f89159e34b7e"
      },
      "source": [
        "## Task 1 - Load data set\n"
      ]
    },
    {
      "cell_type": "markdown",
      "metadata": {
        "id": "961a1ee0-4246-49bf-aadc-181ca7567411"
      },
      "source": [
        "Create SparkSession\n"
      ]
    },
    {
      "cell_type": "code",
      "metadata": {
        "id": "b9b35f91-b144-4378-acda-4d0b4e1c9720"
      },
      "outputs": [],
      "source": [
        "#Ignore any warnings by SparkSession command\n",
        "\n",
        "spark = SparkSession.builder.appName(\"ML Pipeline Example\").getOrCreate()"
      ],
      "execution_count": 3
    },
    {
      "cell_type": "markdown",
      "metadata": {
        "id": "1bdbca3b-c8e7-4f6f-a757-43d1676c0d5f"
      },
      "source": [
        "Download the data file\n"
      ]
    },
    {
      "cell_type": "code",
      "metadata": {
        "colab": {
          "base_uri": "https://localhost:8080/"
        },
        "id": "7d32325b-0937-48bd-a839-d71cd8be6358",
        "outputId": "c6f91d08-6e57-4599-a7bb-6f05a948c55e"
      },
      "outputs": [
        {
          "output_type": "stream",
          "name": "stdout",
          "text": [
            "--2025-04-06 18:05:37--  https://cf-courses-data.s3.us.cloud-object-storage.appdomain.cloud/IBM-BD0231EN-SkillsNetwork/datasets/mpg.csv\n",
            "Resolving cf-courses-data.s3.us.cloud-object-storage.appdomain.cloud (cf-courses-data.s3.us.cloud-object-storage.appdomain.cloud)... 169.63.118.104\n",
            "Connecting to cf-courses-data.s3.us.cloud-object-storage.appdomain.cloud (cf-courses-data.s3.us.cloud-object-storage.appdomain.cloud)|169.63.118.104|:443... connected.\n",
            "HTTP request sent, awaiting response... 200 OK\n",
            "Length: 13891 (14K) [text/csv]\n",
            "Saving to: ‘mpg.csv’\n",
            "\n",
            "mpg.csv             100%[===================>]  13.57K  --.-KB/s    in 0s      \n",
            "\n",
            "2025-04-06 18:05:37 (263 MB/s) - ‘mpg.csv’ saved [13891/13891]\n",
            "\n"
          ]
        }
      ],
      "source": [
        "!wget https://cf-courses-data.s3.us.cloud-object-storage.appdomain.cloud/IBM-BD0231EN-SkillsNetwork/datasets/mpg.csv"
      ],
      "execution_count": 4
    },
    {
      "cell_type": "markdown",
      "metadata": {
        "id": "bad5c302-ce18-44fc-9474-f158f06e4db1"
      },
      "source": [
        "Load the dataset into the spark dataframe\n"
      ]
    },
    {
      "cell_type": "code",
      "metadata": {
        "id": "38ab993b-7166-4472-ab42-4308cf00edf2"
      },
      "outputs": [],
      "source": [
        "# using the spark.read.csv function we load the data into a dataframe.\n",
        "# the header = True mentions that there is a header row in out csv file\n",
        "# the inferSchema = True, tells spark to automatically find out the data types of the columns.\n",
        "\n",
        "# Load mpg dataset\n",
        "mpg_data = spark.read.csv(\"mpg.csv\", header=True, inferSchema=True)"
      ],
      "execution_count": 5
    },
    {
      "cell_type": "markdown",
      "metadata": {
        "id": "817e08f0-6581-4171-9d92-a9f87785eb2f"
      },
      "source": [
        "Print the schema of the dataset\n"
      ]
    },
    {
      "cell_type": "code",
      "metadata": {
        "colab": {
          "base_uri": "https://localhost:8080/"
        },
        "id": "1058822e-ffa8-4b2d-94e1-17c26680882c",
        "outputId": "ad29fd09-aa05-4816-91cc-667db3174e8e"
      },
      "outputs": [
        {
          "output_type": "stream",
          "name": "stdout",
          "text": [
            "root\n",
            " |-- MPG: double (nullable = true)\n",
            " |-- Cylinders: integer (nullable = true)\n",
            " |-- Engine Disp: double (nullable = true)\n",
            " |-- Horsepower: integer (nullable = true)\n",
            " |-- Weight: integer (nullable = true)\n",
            " |-- Accelerate: double (nullable = true)\n",
            " |-- Year: integer (nullable = true)\n",
            " |-- Origin: string (nullable = true)\n",
            "\n"
          ]
        }
      ],
      "source": [
        "mpg_data.printSchema()"
      ],
      "execution_count": 6
    },
    {
      "cell_type": "markdown",
      "metadata": {
        "id": "25eb0cb5-14bb-44c6-bdd4-5c566a952acc"
      },
      "source": [
        "Show top 5 rows from the dataset\n"
      ]
    },
    {
      "cell_type": "code",
      "metadata": {
        "colab": {
          "base_uri": "https://localhost:8080/"
        },
        "id": "607cd05d-c75e-4c10-80d4-c64cdde33c79",
        "outputId": "bb01f65b-169a-4dbb-f1f6-9755a03256f0"
      },
      "outputs": [
        {
          "output_type": "stream",
          "name": "stdout",
          "text": [
            "+----+---------+-----------+----------+------+----------+----+--------+\n",
            "| MPG|Cylinders|Engine Disp|Horsepower|Weight|Accelerate|Year|  Origin|\n",
            "+----+---------+-----------+----------+------+----------+----+--------+\n",
            "|15.0|        8|      390.0|       190|  3850|       8.5|  70|American|\n",
            "|21.0|        6|      199.0|        90|  2648|      15.0|  70|American|\n",
            "|18.0|        6|      199.0|        97|  2774|      15.5|  70|American|\n",
            "|16.0|        8|      304.0|       150|  3433|      12.0|  70|American|\n",
            "|14.0|        8|      455.0|       225|  3086|      10.0|  70|American|\n",
            "+----+---------+-----------+----------+------+----------+----+--------+\n",
            "only showing top 5 rows\n",
            "\n"
          ]
        }
      ],
      "source": [
        "mpg_data.show(5)"
      ],
      "execution_count": 7
    },
    {
      "cell_type": "markdown",
      "metadata": {
        "id": "f1bd9046-cd7a-454b-adc9-6bf9343c14da"
      },
      "source": [
        "## Task 2 - Define pipeline stages\n"
      ]
    },
    {
      "cell_type": "code",
      "metadata": {
        "id": "146ec3ae-31c4-4b81-b5f8-5403fa6a9929"
      },
      "outputs": [],
      "source": [
        "# Stage 1 - assemble the input columns into a single vector\n",
        "vectorAssembler = VectorAssembler(inputCols=[\"Weight\", \"Horsepower\", \"Engine Disp\"], outputCol=\"features\")\n",
        "# Stage 2 - scale the features using standard scaler\n",
        "scaler = StandardScaler(inputCol=\"features\", outputCol=\"scaledFeatures\")\n",
        "# Stage 3 - create a linear regression instance\n",
        "lr = LinearRegression(featuresCol=\"scaledFeatures\", labelCol=\"MPG\")"
      ],
      "execution_count": 8
    },
    {
      "cell_type": "markdown",
      "metadata": {
        "id": "4dfe14ae-f009-4eeb-801f-36e6f847ac03"
      },
      "source": [
        "## Task 3 - Build the pipeline\n"
      ]
    },
    {
      "cell_type": "code",
      "metadata": {
        "id": "9f4372f9-b0d6-4096-8c48-9c61126ac1ef"
      },
      "outputs": [],
      "source": [
        "# Build the pipeline\n",
        "# All the stages of the pipeline are mentioned in the order of execution.\n",
        "pipeline = Pipeline(stages=[vectorAssembler, scaler, lr])"
      ],
      "execution_count": 9
    },
    {
      "cell_type": "markdown",
      "metadata": {
        "id": "24616d23-98bd-4d95-8e06-ef35fb16018f"
      },
      "source": [
        "## Task 4 - Split the data\n"
      ]
    },
    {
      "cell_type": "code",
      "metadata": {
        "id": "6dd93c77-9d34-42a4-b504-26d1d1408043"
      },
      "outputs": [],
      "source": [
        "# Split the data into training and testing sets\n",
        "(trainingData, testData) = mpg_data.randomSplit([0.7, 0.3], seed=42)"
      ],
      "execution_count": 10
    },
    {
      "cell_type": "markdown",
      "metadata": {
        "id": "868666ef-399b-49af-b87a-20e58caac153"
      },
      "source": [
        "## Task 5 - Fit the pipeline\n"
      ]
    },
    {
      "cell_type": "code",
      "metadata": {
        "id": "0997ae63-1ceb-42b7-a1a3-87336d5d4a8c"
      },
      "outputs": [],
      "source": [
        "# Fit the pipeline to the training data\n",
        "# ignore any warnings. The warnings are due to the simplified settings and the security settings of the lab\n",
        "\n",
        "model = pipeline.fit(trainingData)"
      ],
      "execution_count": 11
    },
    {
      "cell_type": "markdown",
      "metadata": {
        "id": "5b022e6c-966e-4705-b731-e24a1d353245"
      },
      "source": [
        "## Task 6 - Evaluate the model\n"
      ]
    },
    {
      "cell_type": "markdown",
      "metadata": {
        "id": "b416cbd4-e4dd-4381-a745-01e21a0ebc50"
      },
      "source": [
        "Make predictions on the testing data\n"
      ]
    },
    {
      "cell_type": "code",
      "metadata": {
        "id": "b616bf1f-dae6-40e0-9fa3-f719b57fd433"
      },
      "outputs": [],
      "source": [
        "predictions = model.transform(testData)"
      ],
      "execution_count": 12
    },
    {
      "cell_type": "markdown",
      "metadata": {
        "id": "635f263f-49a0-49e8-ae01-c18bbcfc39e8"
      },
      "source": [
        "Print the rmse value\n"
      ]
    },
    {
      "cell_type": "code",
      "metadata": {
        "colab": {
          "base_uri": "https://localhost:8080/"
        },
        "id": "01d63eb3-5d0d-441d-a234-9fbb9ea06552",
        "outputId": "e66c4790-76a2-43f8-bbfd-a23242527496"
      },
      "outputs": [
        {
          "output_type": "stream",
          "name": "stdout",
          "text": [
            "Root Mean Squared Error (RMSE) = 3.8756646183839334\n"
          ]
        }
      ],
      "source": [
        "evaluator = RegressionEvaluator(labelCol=\"MPG\", predictionCol=\"prediction\", metricName=\"rmse\")\n",
        "rmse = evaluator.evaluate(predictions)\n",
        "print(\"Root Mean Squared Error (RMSE) =\", rmse)"
      ],
      "execution_count": 13
    },
    {
      "cell_type": "markdown",
      "metadata": {
        "id": "0786cafe-a3a5-4545-b3f7-83f2171d29c6"
      },
      "source": [
        "Stop Spark Session\n"
      ]
    },
    {
      "cell_type": "code",
      "metadata": {
        "id": "496503ee-5ee1-4ef5-b53b-740c4af86f42"
      },
      "outputs": [],
      "source": [
        "spark.stop()"
      ],
      "execution_count": 14
    },
    {
      "cell_type": "markdown",
      "metadata": {
        "id": "e5e64255-3060-40a9-ae87-2f52d52b222e"
      },
      "source": [
        "# Exercises\n"
      ]
    },
    {
      "cell_type": "markdown",
      "metadata": {
        "id": "93316e87-cc7a-41ec-8a6a-2e52a89783e9"
      },
      "source": [
        "### Exercise 1 - Load data set\n"
      ]
    },
    {
      "cell_type": "markdown",
      "metadata": {
        "id": "fd693395-cee0-4ee5-9e1d-cee0e683b774"
      },
      "source": [
        "Create SparkSession with appname \"ML Pipeline Exercise\"\n"
      ]
    },
    {
      "cell_type": "code",
      "metadata": {
        "id": "29e9ce27-06ed-4996-b96d-1996ba9c3681"
      },
      "outputs": [],
      "source": [
        "#Ignore any warnings by SparkSession command\n",
        "\n",
        "spark = SparkSession.builder.appName(\"ML Pipeline Exercise\").getOrCreate()"
      ],
      "execution_count": 15
    },
    {
      "cell_type": "markdown",
      "metadata": {
        "id": "f6cd9c72-35f3-4985-bd0e-4cecb0c56cc4"
      },
      "source": [
        "<details>\n",
        "    <summary>Click here for a Hint</summary>\n",
        "    \n",
        "Use the SparkSession.builder\n",
        "\n",
        "</details>\n"
      ]
    },
    {
      "cell_type": "markdown",
      "metadata": {
        "id": "6bb244df-2a92-4e88-a76e-699d21749d33"
      },
      "source": [
        "<details>\n",
        "    <summary>Click here for Solution</summary>\n",
        "\n",
        "```python\n",
        "spark = SparkSession.builder.appName(\"ML Pipeline Exercise\").getOrCreate()\n",
        "```\n",
        "\n",
        "</details>\n"
      ]
    },
    {
      "cell_type": "markdown",
      "metadata": {
        "id": "0ea4ff3d-88e4-40d6-81f2-b4a67dc6277f"
      },
      "source": [
        "Download the iris data set\n"
      ]
    },
    {
      "cell_type": "code",
      "metadata": {
        "colab": {
          "base_uri": "https://localhost:8080/"
        },
        "id": "96195846-2d6e-4ca5-8404-86a1629504bd",
        "outputId": "66d9804b-e694-4bf4-843a-dbd6eaa372b2"
      },
      "outputs": [
        {
          "output_type": "stream",
          "name": "stdout",
          "text": [
            "--2025-04-06 18:15:19--  https://cf-courses-data.s3.us.cloud-object-storage.appdomain.cloud/IBM-BD0231EN-SkillsNetwork/datasets/iris.csv\n",
            "Resolving cf-courses-data.s3.us.cloud-object-storage.appdomain.cloud (cf-courses-data.s3.us.cloud-object-storage.appdomain.cloud)... 169.45.118.108\n",
            "Connecting to cf-courses-data.s3.us.cloud-object-storage.appdomain.cloud (cf-courses-data.s3.us.cloud-object-storage.appdomain.cloud)|169.45.118.108|:443... connected.\n",
            "HTTP request sent, awaiting response... 200 OK\n",
            "Length: 4612 (4.5K) [text/csv]\n",
            "Saving to: ‘iris.csv’\n",
            "\n",
            "iris.csv            100%[===================>]   4.50K  --.-KB/s    in 0s      \n",
            "\n",
            "2025-04-06 18:15:20 (685 MB/s) - ‘iris.csv’ saved [4612/4612]\n",
            "\n"
          ]
        }
      ],
      "source": [
        "!wget https://cf-courses-data.s3.us.cloud-object-storage.appdomain.cloud/IBM-BD0231EN-SkillsNetwork/datasets/iris.csv"
      ],
      "execution_count": 16
    },
    {
      "cell_type": "markdown",
      "metadata": {
        "id": "ed6845df-e3d3-4ced-aa0d-c58243d34481"
      },
      "source": [
        "Load the dataset into the spark dataframe\n"
      ]
    },
    {
      "cell_type": "code",
      "metadata": {
        "id": "cd013c06-d40f-4a88-8f94-02961fc2b53e"
      },
      "outputs": [],
      "source": [
        "iris_data = spark.read.csv('iris.csv',header=True,inferSchema=True)"
      ],
      "execution_count": 17
    },
    {
      "cell_type": "markdown",
      "metadata": {
        "id": "9f5f863c-a5fd-47bd-b1f8-4c242f983397"
      },
      "source": [
        "<details>\n",
        "    <summary>Click here for a Hint</summary>\n",
        "    \n",
        "Use the spark.read.csv method\n",
        "\n",
        "</details>\n"
      ]
    },
    {
      "cell_type": "markdown",
      "metadata": {
        "id": "aa8fd661-da7f-4077-93e4-e37f69796e96"
      },
      "source": [
        "<details>\n",
        "    <summary>Click here for Solution</summary>\n",
        "\n",
        "```python\n",
        "iris_data = spark.read.csv(\"iris.csv\", header=True, inferSchema=True)\n",
        "\n",
        "```\n",
        "\n",
        "</details>\n"
      ]
    },
    {
      "cell_type": "markdown",
      "metadata": {
        "id": "1de7376c-c591-4e2e-9ef0-b1ad1c9a34fb"
      },
      "source": [
        "Print the schema of the dataset\n"
      ]
    },
    {
      "cell_type": "code",
      "metadata": {
        "colab": {
          "base_uri": "https://localhost:8080/"
        },
        "id": "dbc8b87d-16f9-48b7-b64d-45beb6c2d5e2",
        "outputId": "6c8885b9-b66a-48e4-c385-9ff5149e8bd2"
      },
      "outputs": [
        {
          "output_type": "stream",
          "name": "stdout",
          "text": [
            "root\n",
            " |-- SepalLengthCm: double (nullable = true)\n",
            " |-- SepalWidthCm: double (nullable = true)\n",
            " |-- PetalLengthCm: double (nullable = true)\n",
            " |-- PetalWidthCm: double (nullable = true)\n",
            " |-- Species: string (nullable = true)\n",
            "\n"
          ]
        }
      ],
      "source": [
        "iris_data.printSchema()"
      ],
      "execution_count": 18
    },
    {
      "cell_type": "markdown",
      "metadata": {
        "id": "208fb73c-10e6-4add-ad63-8f066e1f7140"
      },
      "source": [
        "#Notice that the \"Species\" column is a string column\n"
      ]
    },
    {
      "cell_type": "markdown",
      "metadata": {
        "id": "21e1552f-b398-4681-8c03-e163f0ced5e7"
      },
      "source": [
        "Show top 5 rows from the dataset\n"
      ]
    },
    {
      "cell_type": "code",
      "metadata": {
        "colab": {
          "base_uri": "https://localhost:8080/"
        },
        "id": "6bba5e73-f89a-47f0-90a7-60d350900223",
        "outputId": "5293fdef-7be4-4874-8522-6213092296bc"
      },
      "outputs": [
        {
          "output_type": "stream",
          "name": "stdout",
          "text": [
            "+-------------+------------+-------------+------------+-----------+\n",
            "|SepalLengthCm|SepalWidthCm|PetalLengthCm|PetalWidthCm|    Species|\n",
            "+-------------+------------+-------------+------------+-----------+\n",
            "|          5.1|         3.5|          1.4|         0.2|Iris-setosa|\n",
            "|          4.9|         3.0|          1.4|         0.2|Iris-setosa|\n",
            "|          4.7|         3.2|          1.3|         0.2|Iris-setosa|\n",
            "|          4.6|         3.1|          1.5|         0.2|Iris-setosa|\n",
            "|          5.0|         3.6|          1.4|         0.2|Iris-setosa|\n",
            "+-------------+------------+-------------+------------+-----------+\n",
            "only showing top 5 rows\n",
            "\n"
          ]
        }
      ],
      "source": [
        "iris_data.show(5)"
      ],
      "execution_count": 19
    },
    {
      "cell_type": "markdown",
      "metadata": {
        "id": "fb0d42f9-a18a-4334-9371-74bd90f1fbb3"
      },
      "source": [
        "### Exercise 2 - Define pipeline stages\n"
      ]
    },
    {
      "cell_type": "markdown",
      "metadata": {
        "id": "0eeffa36-1a30-428a-aeac-e807fc551f72"
      },
      "source": [
        "Stage 1 - Create an indexer stage using StringIndexer that will convert the Species column into a numeric column named \"label\"\n"
      ]
    },
    {
      "cell_type": "code",
      "metadata": {
        "id": "10cc83cd-1087-4195-a0dd-a33b48b58460"
      },
      "outputs": [],
      "source": [
        "indexer = StringIndexer(inputCol=\"Species\", outputCol=\"label\")"
      ],
      "execution_count": 20
    },
    {
      "cell_type": "markdown",
      "metadata": {
        "id": "77a92691-6176-4acc-967c-dc8f381e7d8f"
      },
      "source": [
        "<details>\n",
        "    <summary>Click here for a Hint</summary>\n",
        "    \n",
        "Use the StringIndexer with inputcol as species and outcol as label\n",
        "\n",
        "</details>\n"
      ]
    },
    {
      "cell_type": "markdown",
      "metadata": {
        "id": "c778757a-48bb-4434-bccf-059408139a80"
      },
      "source": [
        "<details>\n",
        "    <summary>Click here for Solution</summary>\n",
        "\n",
        "```python\n",
        "indexer = StringIndexer(inputCol=\"Species\", outputCol=\"label\")\n",
        "```\n",
        "\n",
        "</details>\n"
      ]
    },
    {
      "cell_type": "markdown",
      "metadata": {
        "id": "d88ff192-47e3-4803-a061-704c1d3fce4a"
      },
      "source": [
        "Stage 2 - Create a vectorAssembler stage that creates a feature vector named features using \"SepalLengthCm\", \"SepalWidthCm\", \"PetalLengthCm\",\"PetalWidthCm\"\n"
      ]
    },
    {
      "cell_type": "code",
      "metadata": {
        "id": "1ddba011-076a-446a-917e-72f4d8dd3955"
      },
      "outputs": [],
      "source": [
        "vectorAssembler = VectorAssembler(inputCols=[\"SepalLengthCm\", \"SepalWidthCm\", \"PetalLengthCm\",\"PetalWidthCm\"], outputCol=\"features\")"
      ],
      "execution_count": 21
    },
    {
      "cell_type": "markdown",
      "metadata": {
        "id": "771c61a2-a1c8-4a0d-ad19-36c20ee2d6c1"
      },
      "source": [
        "<details>\n",
        "    <summary>Click here for a Hint</summary>\n",
        "    \n",
        "Use the VectorAssembler\n",
        "\n",
        "</details>\n"
      ]
    },
    {
      "cell_type": "markdown",
      "metadata": {
        "id": "37ac7f12-0730-4c5a-8920-7047289d45ce"
      },
      "source": [
        "<details>\n",
        "    <summary>Click here for Solution</summary>\n",
        "\n",
        "```python\n",
        "vectorAssembler = VectorAssembler(inputCols=[\"SepalLengthCm\", \"SepalWidthCm\", \"PetalLengthCm\",\"PetalWidthCm\"], outputCol=\"features\")\n",
        "```\n",
        "\n",
        "</details>\n"
      ]
    },
    {
      "cell_type": "markdown",
      "metadata": {
        "id": "d432c91f-6cba-4738-8537-63b8db2a7f5c"
      },
      "source": [
        "Stage 3 - Create a scaler stage that scales the features using standard scaler, name the output columns as scaledFeatures\n"
      ]
    },
    {
      "cell_type": "code",
      "metadata": {
        "id": "6a86e62d-9c54-4bda-bf89-90b1470059c8"
      },
      "outputs": [],
      "source": [
        "scaler = StandardScaler(inputCol=\"features\", outputCol=\"scaledFeatures\")"
      ],
      "execution_count": 22
    },
    {
      "cell_type": "markdown",
      "metadata": {
        "id": "aeb41309-7ad2-45b7-8720-4ef5ac590962"
      },
      "source": [
        "<details>\n",
        "    <summary>Click here for a Hint</summary>\n",
        "    \n",
        "Use the StandardScaler\n",
        "\n",
        "</details>\n"
      ]
    },
    {
      "cell_type": "markdown",
      "metadata": {
        "id": "4b0a5175-0cfb-4b9d-a21b-22748eb81163"
      },
      "source": [
        "<details>\n",
        "    <summary>Click here for Solution</summary>\n",
        "\n",
        "```python\n",
        "scaler = StandardScaler(inputCol=\"features\", outputCol=\"scaledFeatures\")\n",
        "```\n",
        "\n",
        "</details>\n"
      ]
    },
    {
      "cell_type": "markdown",
      "metadata": {
        "id": "310bb2f4-89be-454a-bee5-ecab3da52029"
      },
      "source": [
        "Stage 4 - Create a logistic regression stage using featuresCol=\"scaledFeatures\", labelCol=\"label\"\n"
      ]
    },
    {
      "cell_type": "code",
      "metadata": {
        "id": "0e9dd905-9650-4a50-ac6d-16ccc4f4b90c"
      },
      "outputs": [],
      "source": [
        "classifier = LogisticRegression(featuresCol=\"scaledFeatures\", labelCol=\"label\")"
      ],
      "execution_count": 23
    },
    {
      "cell_type": "markdown",
      "metadata": {
        "id": "7bb7acbc-4916-4f7b-9a0e-e862b7032771"
      },
      "source": [
        "<details>\n",
        "    <summary>Click here for a Hint</summary>\n",
        "    \n",
        "Use the SparkSession.builder\n",
        "\n",
        "</details>\n"
      ]
    },
    {
      "cell_type": "markdown",
      "metadata": {
        "id": "7a0b300b-14e7-410f-8e11-72cb18d4f99f"
      },
      "source": [
        "<details>\n",
        "    <summary>Click here for Solution</summary>\n",
        "\n",
        "```python\n",
        "classifier = LogisticRegression(featuresCol=\"scaledFeatures\", labelCol=\"label\")\n",
        "```\n",
        "\n",
        "</details>\n"
      ]
    },
    {
      "cell_type": "markdown",
      "metadata": {
        "id": "3ca5fca1-d7cb-4b74-8a7d-72377316efa1"
      },
      "source": [
        "### Exercise 3 - Build the pipeline\n"
      ]
    },
    {
      "cell_type": "markdown",
      "metadata": {
        "id": "024e8c1d-5aca-40fd-ab18-e93108f12bf3"
      },
      "source": [
        "Build a pipeline with all the four stages created earlier.\n"
      ]
    },
    {
      "cell_type": "code",
      "metadata": {
        "id": "f4f9a3e2-c1da-4175-bc9e-6a752fea52dd"
      },
      "outputs": [],
      "source": [
        "pipeline = Pipeline(stages=[indexer,vectorAssembler, scaler, classifier])"
      ],
      "execution_count": 24
    },
    {
      "cell_type": "markdown",
      "metadata": {
        "id": "10280809-b275-4511-9ccd-63376d2f9519"
      },
      "source": [
        "<details>\n",
        "    <summary>Click here for a Hint</summary>\n",
        "    \n",
        "Build the pipeline using the 4 stages created earlier\n",
        "\n",
        "</details>\n"
      ]
    },
    {
      "cell_type": "markdown",
      "metadata": {
        "id": "d14f57bd-286b-42f9-9d98-641200754a7a"
      },
      "source": [
        "<details>\n",
        "    <summary>Click here for Solution</summary>\n",
        "\n",
        "```python\n",
        "pipeline = Pipeline(stages=[indexer,vectorAssembler, scaler, classifier])\n",
        "```\n",
        "\n",
        "</details>\n"
      ]
    },
    {
      "cell_type": "markdown",
      "metadata": {
        "id": "8c71c062-aebf-4743-82b5-551c5a3f219b"
      },
      "source": [
        "### Exercise 4 - Split the data\n"
      ]
    },
    {
      "cell_type": "markdown",
      "metadata": {
        "id": "9bec5098-82a7-44af-8a58-a95631e24cb9"
      },
      "source": [
        "Split the data into training and testing sets\n"
      ]
    },
    {
      "cell_type": "code",
      "metadata": {
        "id": "9c9dd305-0611-40d2-a604-5b0854d312b0"
      },
      "outputs": [],
      "source": [
        "(trainingData, testData) = iris_data.randomSplit([0.7, 0.3], seed=42)"
      ],
      "execution_count": 25
    },
    {
      "cell_type": "markdown",
      "metadata": {
        "id": "8cd04747-d483-439d-bc0d-1cde28ec4598"
      },
      "source": [
        "### Exercise 5 - Fit the pipeline\n"
      ]
    },
    {
      "cell_type": "markdown",
      "metadata": {
        "id": "4ac86f17-062b-4e40-8b92-2b6a81bceb0e"
      },
      "source": [
        "Fit the pipeline to the training data\n"
      ]
    },
    {
      "cell_type": "code",
      "metadata": {
        "id": "30b0d58f-248d-4da2-a193-e76584bfb025"
      },
      "outputs": [],
      "source": [
        "model = pipeline.fit(trainingData)"
      ],
      "execution_count": 26
    },
    {
      "cell_type": "markdown",
      "metadata": {
        "id": "9f42b832-6411-4afc-adfb-b8cde985556e"
      },
      "source": [
        "<details>\n",
        "    <summary>Click here for a Hint</summary>\n",
        "    \n",
        "Use the fit method of the pipeline\n",
        "\n",
        "</details>\n"
      ]
    },
    {
      "cell_type": "markdown",
      "metadata": {
        "id": "4c3ab660-602e-486a-8564-d215b2f682c9"
      },
      "source": [
        "<details>\n",
        "    <summary>Click here for Solution</summary>\n",
        "\n",
        "```python\n",
        "model = pipeline.fit(trainingData)\n",
        "```\n",
        "\n",
        "</details>\n"
      ]
    },
    {
      "cell_type": "markdown",
      "metadata": {
        "id": "ff44bd99-5561-4100-ad45-faa2a5be3f16"
      },
      "source": [
        "### Exercise 6 - Evaluate the model\n"
      ]
    },
    {
      "cell_type": "markdown",
      "metadata": {
        "id": "539f6aaf-b77d-4e54-9beb-7b7e09fc064c"
      },
      "source": [
        "Make predictions on the testing data\n"
      ]
    },
    {
      "cell_type": "code",
      "metadata": {
        "id": "10aaab28-6319-4ee3-9a9c-cffdd85ac734"
      },
      "outputs": [],
      "source": [
        "predictions = model.transform(testData)"
      ],
      "execution_count": 28
    },
    {
      "cell_type": "markdown",
      "metadata": {
        "id": "552279f5-9742-4d1d-953b-42d03d9c517e"
      },
      "source": [
        "<details>\n",
        "    <summary>Click here for a Hint</summary>\n",
        "    \n",
        "Use the transform method of the model\n",
        "\n",
        "</details>\n"
      ]
    },
    {
      "cell_type": "markdown",
      "metadata": {
        "id": "e19358c9-309b-4e89-9346-1ece220eb551"
      },
      "source": [
        "<details>\n",
        "    <summary>Click here for Solution</summary>\n",
        "\n",
        "```python\n",
        "predictions = model.transform(testData)\n",
        "```\n",
        "\n",
        "</details>\n"
      ]
    },
    {
      "cell_type": "markdown",
      "metadata": {
        "id": "2dfd1573-37a4-4a42-97e4-78e48ab37219"
      },
      "source": [
        "# Evaluate model performance\n"
      ]
    },
    {
      "cell_type": "markdown",
      "metadata": {
        "id": "288f06e5-cf5a-40e2-8d32-18d430f774f6"
      },
      "source": [
        "Print the RMSE value\n"
      ]
    },
    {
      "cell_type": "code",
      "metadata": {
        "colab": {
          "base_uri": "https://localhost:8080/"
        },
        "id": "92642568-f4e0-4baa-8c06-d02ac4780e34",
        "outputId": "935335c6-f174-4fdf-d68e-086ac1ef4fb4"
      },
      "outputs": [
        {
          "output_type": "stream",
          "name": "stdout",
          "text": [
            "Accuracy = 0.9782608695652174\n"
          ]
        }
      ],
      "source": [
        "evaluator = MulticlassClassificationEvaluator(labelCol=\"label\", predictionCol=\"prediction\", metricName=\"accuracy\")\n",
        "accuracy = evaluator.evaluate(predictions)\n",
        "print(\"Accuracy =\", accuracy)"
      ],
      "execution_count": 29
    },
    {
      "cell_type": "markdown",
      "metadata": {
        "id": "58bee2df-5cdd-4369-9d95-a6ed4f2797fe"
      },
      "source": [
        "Stop Spark Session\n"
      ]
    },
    {
      "cell_type": "code",
      "metadata": {
        "id": "89993df2-f6dc-44fc-b136-7ad635ec0a30"
      },
      "outputs": [],
      "source": [
        "spark.stop()"
      ],
      "execution_count": 30
    },
    {
      "cell_type": "markdown",
      "metadata": {
        "id": "ee4ba7fe-01d7-4278-affc-e33e336979e3"
      },
      "source": [
        "Congratulations you have completed this lab.<br>\n"
      ]
    },
    {
      "cell_type": "markdown",
      "metadata": {
        "id": "fde802fb-bdad-4b74-aef6-878d2415848e"
      },
      "source": [
        "## Authors\n"
      ]
    },
    {
      "cell_type": "markdown",
      "metadata": {
        "id": "2cf4642c-7606-4c66-b4b2-faffe19fc86a"
      },
      "source": [
        "[Ramesh Sannareddy](https://www.linkedin.com/in/rsannareddy/?utm_medium=Exinfluencer&utm_source=Exinfluencer&utm_content=000026UJ&utm_term=10006555&utm_id=NA-SkillsNetwork-Channel-SkillsNetworkCoursesIBMBD0231ENSkillsNetwork866-2023-01-01)\n"
      ]
    },
    {
      "cell_type": "markdown",
      "metadata": {
        "id": "2fb1eae3-378e-4b8e-992c-92795e0b76a4"
      },
      "source": [
        "### Other Contributors\n"
      ]
    },
    {
      "cell_type": "markdown",
      "metadata": {
        "id": "3ef98918-0986-4b4f-bb79-4be56d8e0421"
      },
      "source": [
        "Copyright © 2023 IBM Corporation. All rights reserved.\n"
      ]
    },
    {
      "cell_type": "markdown",
      "metadata": {
        "id": "cb94b555-aa4c-47a2-b83c-849cd3443608"
      },
      "source": [
        "<!--\n",
        "## Change Log\n",
        "-->\n"
      ]
    },
    {
      "cell_type": "markdown",
      "metadata": {
        "id": "15f4ced7-a1d2-4dd5-947d-9dcb3d038380"
      },
      "source": [
        "<!--\n",
        "|Date (YYYY-MM-DD)|Version|Changed By|Change Description|\n",
        "|-|-|-|-|\n",
        "|2023-05-04|0.1|Ramesh Sannareddy|Initial Version Created|\n",
        "-->\n"
      ]
    }
  ],
  "metadata": {
    "kernelspec": {
      "display_name": "Python",
      "language": "python",
      "name": "conda-env-python-py"
    },
    "language_info": {
      "name": "python",
      "version": "3.7.12",
      "mimetype": "text/x-python",
      "codemirror_mode": {
        "name": "ipython",
        "version": 3
      },
      "pygments_lexer": "ipython3",
      "nbconvert_exporter": "python",
      "file_extension": ".py"
    },
    "prev_pub_hash": "4bc9b90337588bf090800ef1b66ab21220ebda6c01cfc7d3c1a630354810e8ba",
    "colab": {
      "provenance": [],
      "include_colab_link": true
    }
  },
  "nbformat": 4,
  "nbformat_minor": 0
}